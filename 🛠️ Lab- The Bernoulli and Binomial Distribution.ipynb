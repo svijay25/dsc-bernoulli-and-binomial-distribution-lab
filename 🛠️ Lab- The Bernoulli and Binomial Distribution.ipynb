{
 "cells": [
  {
   "cell_type": "markdown",
   "metadata": {},
   "source": [
    "# Bernoulli and Binomial Distribution - Lab\n",
    "\n",
    "## Introduction\n",
    "In this lab, you'll practice your newly gained knowledge on the Bernoulli and Binomial Distribution.\n",
    "\n",
    "## Objectives\n",
    "You will be able to:\n",
    "\n",
    "* Apply the formulas for the Binomial and Bernoulli distribution to calculate the probability of a specific event\n",
    "* Use `numpy` to randomly generate Binomial and Bernoulli trials\n",
    "* Use `matplotlib` to show the output of generated Binomial and Bernoulli trials\n",
    "\n",
    "## Apply the formulas for the Binomial and Bernoulli distributions\n",
    "\n",
    "When playing a game of bowling, what is the probability of throwing exactly 3 strikes in a game with 10 rounds? Assume that the probability of throwing a strike is 25% for each round. Use the formula for the Binomial distribution to get to the answer. You've created this before, so we provide you with the function for factorials again:"
   ]
  },
  {
   "cell_type": "code",
   "execution_count": 1,
   "metadata": {},
   "outputs": [],
   "source": [
    "def factorial(n):\n",
    "    prod = 1\n",
    "    while n >= 1:\n",
    "        prod = prod * n\n",
    "        n = n - 1\n",
    "    return prod"
   ]
  },
  {
   "cell_type": "code",
   "execution_count": 2,
   "metadata": {},
   "outputs": [
    {
     "name": "stdout",
     "output_type": "stream",
     "text": [
      "The probability of throwing exactly 3 strikes in 10 rounds is 0.2502823\n"
     ]
    }
   ],
   "source": [
    "def binomial_probability(n, k, p):\n",
    "    # Calculate the binomial coefficient\n",
    "    binom_coeff = factorial(n) / (factorial(k) * factorial(n - k))\n",
    "    \n",
    "    # Calculate the probability\n",
    "    probability = binom_coeff * (p ** k) * ((1 - p) ** (n - k))\n",
    "    \n",
    "    return probability\n",
    "\n",
    "# Given values\n",
    "n = 10  # number of rounds\n",
    "k = 3   # number of strikes\n",
    "p = 0.25  # probability of throwing a strike\n",
    "\n",
    "# Calculate the probability of exactly 3 strikes in 10 rounds\n",
    "p_3_strikes = binomial_probability(n, k, p)\n",
    "\n",
    "print(f\"The probability of throwing exactly 3 strikes in 10 rounds is {p_3_strikes:.7f}\")\n",
    "#answer = 0.2502822"
   ]
  },
  {
   "cell_type": "markdown",
   "metadata": {},
   "source": [
    "Now, create a function for the Binomial distribution with three arguments $n$, $p$ and $k$ just like in the formula:\n",
    "\n",
    "$$ \\large P(Y=k)= \\binom{n}{k} p^k(1-p)^{(n-k)}$$ \n"
   ]
  },
  {
   "cell_type": "code",
   "execution_count": 3,
   "metadata": {},
   "outputs": [
    {
     "name": "stdout",
     "output_type": "stream",
     "text": [
      "The probability of exactly 3 successes in 10 trials is 0.2502823\n"
     ]
    }
   ],
   "source": [
    "def binom_distr(n, p, k):\n",
    "    # Calculate the binomial coefficient\n",
    "    binom_coeff = factorial(n) / (factorial(k) * factorial(n - k))\n",
    "    \n",
    "    # Calculate the probability\n",
    "    probability = binom_coeff * (p ** k) * ((1 - p) ** (n - k))\n",
    "    \n",
    "    return probability\n",
    "\n",
    "# Example usage\n",
    "n = 10  # number of trials\n",
    "p = 0.25  # probability of success on a single trial\n",
    "k = 3  # number of successes\n",
    "\n",
    "# Calculate the probability of exactly k successes in n trials\n",
    "p_k_successes = binom_distr(n, p, k)\n",
    "\n",
    "print(f\"The probability of exactly {k} successes in {n} trials is {p_k_successes:.7f}\")"
   ]
  },
  {
   "cell_type": "markdown",
   "metadata": {},
   "source": [
    "Validate your previous result by applying your new function."
   ]
  },
  {
   "cell_type": "markdown",
   "metadata": {},
   "source": [
    "Now write a `for` loop along with your function to compute the probability that you have five strikes or more in one game. You'll want to use `numpy` here!"
   ]
  },
  {
   "cell_type": "code",
   "execution_count": 4,
   "metadata": {},
   "outputs": [
    {
     "name": "stdout",
     "output_type": "stream",
     "text": [
      "The probability of having 5 or more strikes in 10 rounds is 0.0781269\n"
     ]
    }
   ],
   "source": [
    "import numpy as np\n",
    "# Your code here\n",
    "def factorial(n):\n",
    "    prod = 1\n",
    "    while n >= 1:\n",
    "        prod = prod * n\n",
    "        n = n - 1\n",
    "    return prod\n",
    "\n",
    "def binom_distr(n, p, k):\n",
    "    # Calculate the binomial coefficient\n",
    "    binom_coeff = factorial(n) / (factorial(k) * factorial(n - k))\n",
    "    \n",
    "    # Calculate the probability\n",
    "    probability = binom_coeff * (p ** k) * ((1 - p) ** (n - k))\n",
    "    \n",
    "    return probability\n",
    "\n",
    "# Given values\n",
    "n = 10  # number of trials\n",
    "p = 0.25  # probability of success on a single trial\n",
    "\n",
    "# Calculate the probability of having 5 or more strikes\n",
    "probability_5_or_more = sum(binom_distr(n, p, k) for k in range(5, n+1))\n",
    "\n",
    "print(f\"The probability of having 5 or more strikes in 10 rounds is {probability_5_or_more:.7f}\")"
   ]
  },
  {
   "cell_type": "markdown",
   "metadata": {},
   "source": [
    "## Use a simulation to get the probabilities for all the potential outcomes\n",
    "\n",
    "Repeat the experiment 5000 times."
   ]
  },
  {
   "cell_type": "code",
   "execution_count": 6,
   "metadata": {},
   "outputs": [
    {
     "name": "stdout",
     "output_type": "stream",
     "text": [
      "The probability of having 0 strikes in 10 rounds is 0.0620000\n",
      "The probability of having 1 strikes in 10 rounds is 0.1882000\n",
      "The probability of having 2 strikes in 10 rounds is 0.2736000\n",
      "The probability of having 3 strikes in 10 rounds is 0.2572000\n",
      "The probability of having 4 strikes in 10 rounds is 0.1414000\n",
      "The probability of having 5 strikes in 10 rounds is 0.0594000\n",
      "The probability of having 6 strikes in 10 rounds is 0.0156000\n",
      "The probability of having 7 strikes in 10 rounds is 0.0022000\n",
      "The probability of having 8 strikes in 10 rounds is 0.0004000\n",
      "The probability of having 9 strikes in 10 rounds is 0.0000000\n",
      "The probability of having 10 strikes in 10 rounds is 0.0000000\n"
     ]
    }
   ],
   "source": [
    "# leave the random seed here for reproducibility of results\n",
    "np.random.seed(123)\n",
    "\n",
    "# Given values\n",
    "n = 10  # number of trials\n",
    "p = 0.25  # probability of success on a single trial\n",
    "num_experiments = 5000  # number of experiments\n",
    "\n",
    "# Simulate the experiment 5000 times\n",
    "results = np.random.binomial(n, p, num_experiments)\n",
    "\n",
    "# Calculate frequencies of each outcome (0 to 10 strikes)\n",
    "frequencies = np.bincount(results, minlength=n+1)\n",
    "\n",
    "# Calculate probabilities\n",
    "probabilities = frequencies / num_experiments\n",
    "\n",
    "# Print the probabilities for each outcome\n",
    "for i in range(n+1):\n",
    "    print(f\"The probability of having {i} strikes in 10 rounds is {probabilities[i]:.7f}\")"
   ]
  },
  {
   "cell_type": "code",
   "execution_count": null,
   "metadata": {},
   "outputs": [],
   "source": [
    "# the results should look like this:\n",
    "# [0 1 2 3 4 5 6 7 8]\n",
    "# [ 310  941 1368 1286  707  297   78   11    2]"
   ]
  },
  {
   "cell_type": "markdown",
   "metadata": {},
   "source": [
    "## Visualize these results\n",
    "\n",
    "Create the PMF using these empirical results (that is, the proportions based on the values we obtained running the experiment 5000 times)."
   ]
  },
  {
   "cell_type": "code",
   "execution_count": 7,
   "metadata": {},
   "outputs": [
    {
     "name": "stdout",
     "output_type": "stream",
     "text": [
      "The probability of having 0 strikes in 10 rounds is 0.0494000\n",
      "The probability of having 1 strikes in 10 rounds is 0.2012000\n",
      "The probability of having 2 strikes in 10 rounds is 0.2698000\n",
      "The probability of having 3 strikes in 10 rounds is 0.2622000\n",
      "The probability of having 4 strikes in 10 rounds is 0.1428000\n",
      "The probability of having 5 strikes in 10 rounds is 0.0558000\n",
      "The probability of having 6 strikes in 10 rounds is 0.0170000\n",
      "The probability of having 7 strikes in 10 rounds is 0.0018000\n",
      "The probability of having 8 strikes in 10 rounds is 0.0000000\n",
      "The probability of having 9 strikes in 10 rounds is 0.0000000\n",
      "The probability of having 10 strikes in 10 rounds is 0.0000000\n"
     ]
    },
    {
     "data": {
      "image/png": "[encoded data removed]",
      "text/plain": [
       "<Figure size 640x480 with 1 Axes>"
      ]
     },
     "metadata": {},
     "output_type": "display_data"
    }
   ],
   "source": [
    "import matplotlib.pyplot as plt\n",
    "%matplotlib inline\n",
    "## Given values\n",
    "n = 10  # number of trials\n",
    "p = 0.25  # probability of success on a single trial\n",
    "num_experiments = 5000  # number of experiments\n",
    "\n",
    "# Simulate the experiment 5000 times\n",
    "results = np.random.binomial(n, p, num_experiments)\n",
    "\n",
    "# Calculate frequencies of each outcome (0 to 10 strikes)\n",
    "frequencies = np.bincount(results, minlength=n+1)\n",
    "\n",
    "# Calculate probabilities\n",
    "probabilities = frequencies / num_experiments\n",
    "\n",
    "# Print the probabilities for each outcome\n",
    "for i in range(n+1):\n",
    "    print(f\"The probability of having {i} strikes in 10 rounds is {probabilities[i]:.7f}\")\n",
    "\n",
    "# Plot the probabilities\n",
    "plt.bar(range(n+1), probabilities, color='skyblue')\n",
    "plt.xlabel('Number of Strikes')\n",
    "plt.ylabel('Probability')\n",
    "plt.title('Probability Distribution of Strikes in 10 Rounds')\n",
    "plt.xticks(range(n+1))\n",
    "plt.show()"
   ]
  },
  {
   "cell_type": "markdown",
   "metadata": {},
   "source": [
    "You should see that, with a 25% strike hit rate, even when simulating 5000 times, an almost perfect and/or perfect game of 9 and 10 strikes didn't even occur once! If you change the random seed, however, you'll see that perfect games will show up occasionally. \n",
    "\n",
    "Next, let's create the CDF based on these results. You can use `np.cumsum` to obtain cumulative probabilities."
   ]
  },
  {
   "cell_type": "code",
   "execution_count": 8,
   "metadata": {},
   "outputs": [
    {
     "name": "stdout",
     "output_type": "stream",
     "text": [
      "The cumulative probability of having up to 0 strikes in 10 rounds is 0.0566000\n",
      "The cumulative probability of having up to 1 strikes in 10 rounds is 0.2502000\n",
      "The cumulative probability of having up to 2 strikes in 10 rounds is 0.5272000\n",
      "The cumulative probability of having up to 3 strikes in 10 rounds is 0.7782000\n",
      "The cumulative probability of having up to 4 strikes in 10 rounds is 0.9230000\n",
      "The cumulative probability of having up to 5 strikes in 10 rounds is 0.9808000\n",
      "The cumulative probability of having up to 6 strikes in 10 rounds is 0.9966000\n",
      "The cumulative probability of having up to 7 strikes in 10 rounds is 0.9998000\n",
      "The cumulative probability of having up to 8 strikes in 10 rounds is 1.0000000\n",
      "The cumulative probability of having up to 9 strikes in 10 rounds is 1.0000000\n",
      "The cumulative probability of having up to 10 strikes in 10 rounds is 1.0000000\n"
     ]
    },
    {
     "data": {
      "image/png": "[encoded data removed]",
      "text/plain": [
       "<Figure size 640x480 with 1 Axes>"
      ]
     },
     "metadata": {},
     "output_type": "display_data"
    }
   ],
   "source": [
    "import numpy as np\n",
    "import matplotlib.pyplot as plt\n",
    "\n",
    "# Set a random seed for reproducibility\n",
    "np.random.seed(42)\n",
    "\n",
    "# Given values\n",
    "n = 10  # number of trials\n",
    "p = 0.25  # probability of success on a single trial\n",
    "num_experiments = 5000  # number of experiments\n",
    "\n",
    "# Simulate the experiment 5000 times\n",
    "results = np.random.binomial(n, p, num_experiments)\n",
    "\n",
    "# Calculate frequencies of each outcome (0 to 10 strikes)\n",
    "frequencies = np.bincount(results, minlength=n+1)\n",
    "\n",
    "# Calculate probabilities\n",
    "probabilities = frequencies / num_experiments\n",
    "\n",
    "# Calculate cumulative probabilities (CDF)\n",
    "cumulative_probabilities = np.cumsum(probabilities)\n",
    "\n",
    "# Print the cumulative probabilities for each outcome\n",
    "for i in range(n+1):\n",
    "    print(f\"The cumulative probability of having up to {i} strikes in 10 rounds is {cumulative_probabilities[i]:.7f}\")\n",
    "\n",
    "# Plot the CDF\n",
    "plt.step(range(n+1), cumulative_probabilities, where='mid', color='skyblue')\n",
    "plt.xlabel('Number of Strikes')\n",
    "plt.ylabel('Cumulative Probability')\n",
    "plt.title('Cumulative Distribution Function of Strikes in 10 Rounds')\n",
    "plt.xticks(range(n+1))\n",
    "plt.ylim(0, 1)\n",
    "plt.grid(True)\n",
    "plt.show()"
   ]
  },
  {
   "cell_type": "markdown",
   "metadata": {},
   "source": [
    "## Summary\n",
    "\n",
    "Congratulations! In this lab, you practiced your newly gained knowledge of the Bernoulli and Binomial Distribution."
   ]
  }
 ],
 "metadata": {
  "kernelspec": {
   "display_name": "Python 3 (ipykernel)",
   "language": "python",
   "name": "python3"
  },
  "language_info": {
   "codemirror_mode": {
    "name": "ipython",
    "version": 3
   },
   "file_extension": ".py",
   "mimetype": "text/x-python",
   "name": "python",
   "nbconvert_exporter": "python",
   "pygments_lexer": "ipython3",
   "version": "3.12.4"
  },
  "toc": {
   "base_numbering": 1,
   "nav_menu": {},
   "number_sections": true,
   "sideBar": true,
   "skip_h1_title": false,
   "title_cell": "Table of Contents",
   "title_sidebar": "Contents",
   "toc_cell": false,
   "toc_position": {},
   "toc_section_display": true,
   "toc_window_display": false
  }
 },
 "nbformat": 4,
 "nbformat_minor": 4
}
